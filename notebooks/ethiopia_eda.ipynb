import pandas as pd

# Load your dataset (adjust filename)
df = pd.read_csv('data/ethiopia.csv')

# View first few rows
df.head()


df.describe()

# Missing values
df.isna().sum()

# Columns with >5% nulls
threshold = len(df) * 0.05
df.isna().sum()[df.isna().sum() > threshold]

df.describe()


from scipy.stats import zscore

# Columns to check
cols = ['GHI', 'DNI', 'DHI', 'ModA', 'ModB', 'WS', 'WSgust']
z_scores = df[cols].apply(zscore)

# Flag outliers where |Z| > 3
outliers = (z_scores.abs() > 3).any(axis=1)

# Optional: view outliers
df[outliers]

# Drop or impute missing values
df_cleaned = df.copy()
for col in cols:
    df_cleaned[col].fillna(df_cleaned[col].median(), inplace=True)

# Save cleaned data (DON'T COMMIT this file)
df_cleaned.to_csv('data/ethiopia_clean.csv', index=False)


import matplotlib.pyplot as plt
import seaborn as sns

df['Timestamp'] = pd.to_datetime(df['Timestamp'])

plt.figure(figsize=(12, 5))
plt.plot(df['Timestamp'], df['GHI'], label='GHI')
plt.plot(df['Timestamp'], df['DNI'], label='DNI')
plt.plot(df['Timestamp'], df['DHI'], label='DHI')
plt.xlabel("Time")
plt.ylabel("Value")
plt.legend()
plt.title("Solar Data Over Time")
plt.show()



# compare sensor reading before and after cleaning
df.groupby('Cleaning')['ModA', 'ModB'].mean().plot(kind='bar')
plt.title("ModA and ModB Averages - Cleaned vs Not")
plt.show()

sns.heatmap(df[['GHI', 'DNI', 'DHI', 'TModA', 'TModB']].corr(), annot=True)
sns.scatterplot(x='WS', y='GHI', data=df)


# wind and distribution analysis
plt.hist(df['GHI'], bins=30)
plt.title('Histogram of GHI')
plt.show()


# temprutur and humudity
sns.scatterplot(x='RH', y='Tamb', data=df)
plt.title("RH vs Tamb")

#bubble chart
plt.scatter(df['GHI'], df['Tamb'], s=df['RH']*2, alpha=0.5)
plt.xlabel("GHI")
plt.ylabel("Tamb")
plt.title("Bubble Chart: GHI vs Tamb (size = RH)")
plt.show()




